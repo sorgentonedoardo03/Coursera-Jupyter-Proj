{
 "cells": [
  {
   "cell_type": "markdown",
   "id": "f821954a-01e7-48ce-bee8-89087e5542ac",
   "metadata": {},
   "source": [
    "# Data Science Tools and Ecosystem"
   ]
  },
  {
   "cell_type": "markdown",
   "id": "f9fab931-1e5e-48af-9944-b2f99d117205",
   "metadata": {},
   "source": [
    "In this notebook, Data Science Tools and Ecosystem are summarized."
   ]
  },
  {
   "cell_type": "markdown",
   "id": "da3eb192-507a-45a8-b5a1-53c5bf7f988f",
   "metadata": {},
   "source": [
    "**Objectives:**  \n",
    "+ List popular languages for Data Science\n",
    "+ Common Libraries\n",
    "+ Python examples"
   ]
  },
  {
   "cell_type": "markdown",
   "id": "526f57cb-7e98-4ba2-b894-0260b6d859b0",
   "metadata": {},
   "source": [
    "Some of the popular languages that Data Scientists use are:"
   ]
  },
  {
   "cell_type": "markdown",
   "id": "dfe1fa27-92b6-4e6b-ad53-ddd118c47d40",
   "metadata": {},
   "source": [
    "1. Python\n",
    "2. R\n",
    "3. Scala"
   ]
  },
  {
   "cell_type": "markdown",
   "id": "a571d2e3-9055-4f5a-a1a8-ac1cefaf449a",
   "metadata": {},
   "source": [
    "Some of the commonly used libraries used by Data Scientists include:"
   ]
  },
  {
   "cell_type": "markdown",
   "id": "ecebf19a-0a62-4168-8297-8cc00d512362",
   "metadata": {},
   "source": [
    "1. Pandas\n",
    "2. Numpy\n",
    "3. Matplotlib"
   ]
  },
  {
   "cell_type": "markdown",
   "id": "ab3d19a9-78f3-47b5-b6e9-d8dde3a4fb4d",
   "metadata": {},
   "source": [
    "| Data Science Tools |\n",
    "|--------------------|"
   ]
  },
  {
   "cell_type": "markdown",
   "id": "cf3e59a7-7507-4fcb-8433-7b2559dabb96",
   "metadata": {},
   "source": [
    "### Below are a few examples of evaluating arithmetic expressions in Python"
   ]
  },
  {
   "cell_type": "code",
   "execution_count": 1,
   "id": "78c1a4da-dddd-4729-9c9a-4c71a61233a9",
   "metadata": {},
   "outputs": [
    {
     "data": {
      "text/plain": [
       "17"
      ]
     },
     "execution_count": 1,
     "metadata": {},
     "output_type": "execute_result"
    }
   ],
   "source": [
    "#This a simple arithmetic expression to mutiply then add integers\n",
    "(3*4)+5\n"
   ]
  },
  {
   "cell_type": "code",
   "execution_count": 2,
   "id": "efc47213-9ba4-46b9-82c8-a0ceea00aaf1",
   "metadata": {},
   "outputs": [
    {
     "data": {
      "text/plain": [
       "3.3333333333333335"
      ]
     },
     "execution_count": 2,
     "metadata": {},
     "output_type": "execute_result"
    }
   ],
   "source": [
    "#This will convert 200 minutes to hours by diving by 60\n",
    "200/60"
   ]
  },
  {
   "cell_type": "code",
   "execution_count": null,
   "id": "195afde4-b5c1-4aee-9b9c-e30f1dca137d",
   "metadata": {},
   "outputs": [],
   "source": []
  }
 ],
 "metadata": {
  "kernelspec": {
   "display_name": "Python 3 (ipykernel)",
   "language": "python",
   "name": "python3"
  },
  "language_info": {
   "codemirror_mode": {
    "name": "ipython",
    "version": 3
   },
   "file_extension": ".py",
   "mimetype": "text/x-python",
   "name": "python",
   "nbconvert_exporter": "python",
   "pygments_lexer": "ipython3",
   "version": "3.12.4"
  }
 },
 "nbformat": 4,
 "nbformat_minor": 5
}
